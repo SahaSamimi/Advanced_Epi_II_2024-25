{
 "cells": [
  {
   "cell_type": "markdown",
   "id": "fb3a056853745392",
   "metadata": {},
   "source": [
    "## Exercise: Pandas & NumPy with Student Performance Dataset\n",
    "## Exercise: Pandas & NumPy with Student Performance Dataset\n",
    "\n",
    "You are provided with three separate datasets, all originally derived from a single dataset. However, these datasets have undergone slight modifications through different processes. Your task is to analyze the datasets, identify the differences, and correctly merge them back together.\n",
    "\n",
    "**Important Notes**:\n",
    "- Some column names have been changed and need to be translated back.\n",
    "- Certain categorical variables have altered values (e.g., some categories have been renamed).\n",
    "- Check the distribution of numerical variables, as there may be discrepancies.\n",
    "- Missing values are present in multiple columns and need to be imputed appropriately. Justify your choice of imputation method.\n",
    "- Some columns have been stored in different data types (e.g., numbers as strings). Ensure that data types are correct before merging the datasets.\n",
    "\n",
    "Your Task:\n",
    "1. Load all three datasets into Python.\n",
    "2. Identify differences and discrepancies between the datasets.\n",
    "3. Reconstruct the original dataset by:\n",
    "    - Adjusting column names and data types.\n",
    "    - Correctly merging the datasets.\n",
    "    - Handling missing values (imputation) and justifying your chosen method.\n",
    "4. Save the final dataset as Merged_StudentData.csv.\n",
    "5. Perform hypothesis tests to analyze relationships between the following variables: `Sleep_Hours`, `Exam_Score`, `Internet_Access`, `Hours_Studied`, and `Tutoring_Sessions`."
   ]
  },
  {
   "cell_type": "code",
   "execution_count": 1,
   "id": "c077638d8b1e6b70",
   "metadata": {
    "ExecuteTime": {
     "end_time": "2025-03-16T20:18:14.506664Z",
     "start_time": "2025-03-16T20:18:14.502474Z"
    }
   },
   "outputs": [],
   "source": [
    "#1.\n",
    "import pandas as pd\n",
    "df1 = pd.read_csv(\"Student Data Part 1.csv\")\n",
    "df2 = pd.read_csv(\"Student Data Part 2.csv\")\n",
    "df3 = pd.read_csv(\"Student Data Part 3.csv\")"
   ]
  },
  {
   "cell_type": "code",
   "execution_count": 2,
   "id": "901583df-9d21-4841-8f74-f0690b81da3b",
   "metadata": {},
   "outputs": [
    {
     "name": "stdout",
     "output_type": "stream",
     "text": [
      "(6607, 6)\n",
      "(5616, 7)\n",
      "(6607, 5)\n"
     ]
    }
   ],
   "source": [
    "print(df1.shape)\n",
    "print(df2.shape)\n",
    "print(df3.shape)"
   ]
  },
  {
   "cell_type": "code",
   "execution_count": 3,
   "id": "707d751b-1ac2-4e5d-8bbf-0c886cad9445",
   "metadata": {},
   "outputs": [
    {
     "name": "stdout",
     "output_type": "stream",
     "text": [
      "Student_ID                0\n",
      "Study_Hours               0\n",
      "Attendance                0\n",
      "Rest_Hours              330\n",
      "Parental_Involvement      0\n",
      "Access_to_Resources       0\n",
      "dtype: int64\n",
      "Unnamed: 0             0\n",
      "Student_ID             0\n",
      "Internet_Access      281\n",
      "Tutoring_Sessions    281\n",
      "Family_Income          0\n",
      "Teacher_Quality       66\n",
      "School_Type            0\n",
      "dtype: int64\n",
      "Student_ID                    0\n",
      "Final_Score                 330\n",
      "Parental_Education_Level     90\n",
      "Distance_from_Home           67\n",
      "Gender                        0\n",
      "dtype: int64\n"
     ]
    }
   ],
   "source": [
    "print(df1.isna().sum())\n",
    "print(df2.isna().sum())\n",
    "print(df3.isna().sum())"
   ]
  },
  {
   "cell_type": "code",
   "execution_count": 4,
   "id": "54da89ab-b97c-4ca5-b5f3-75fa4ddef481",
   "metadata": {},
   "outputs": [
    {
     "name": "stdout",
     "output_type": "stream",
     "text": [
      "Index(['Student_ID', 'Study_Hours', 'Attendance', 'Rest_Hours',\n",
      "       'Parental_Involvement', 'Access_to_Resources'],\n",
      "      dtype='object')\n",
      "Index(['Unnamed: 0', 'Student_ID', 'Internet_Access', 'Tutoring_Sessions',\n",
      "       'Family_Income', 'Teacher_Quality', 'School_Type'],\n",
      "      dtype='object')\n",
      "Index(['Student_ID', 'Final_Score', 'Parental_Education_Level',\n",
      "       'Distance_from_Home', 'Gender'],\n",
      "      dtype='object')\n"
     ]
    }
   ],
   "source": [
    "print(df1.columns)\n",
    "print(df2.columns)\n",
    "print(df3.columns)"
   ]
  },
  {
   "cell_type": "code",
   "execution_count": 5,
   "id": "60fa7d96-763f-4744-a157-c52c54a1df7c",
   "metadata": {},
   "outputs": [
    {
     "name": "stdout",
     "output_type": "stream",
     "text": [
      "Student_ID              6607\n",
      "Study_Hours               41\n",
      "Attendance                41\n",
      "Rest_Hours                 7\n",
      "Parental_Involvement       3\n",
      "Access_to_Resources        3\n",
      "dtype: int64\n",
      "Unnamed: 0           5616\n",
      "Student_ID           5616\n",
      "Internet_Access         2\n",
      "Tutoring_Sessions       9\n",
      "Family_Income           3\n",
      "Teacher_Quality         3\n",
      "School_Type             2\n",
      "dtype: int64\n",
      "Student_ID                  6607\n",
      "Final_Score                   44\n",
      "Parental_Education_Level       3\n",
      "Distance_from_Home             3\n",
      "Gender                         2\n",
      "dtype: int64\n"
     ]
    }
   ],
   "source": [
    "print(df1.nunique())\n",
    "print(df2.nunique())\n",
    "print(df3.nunique())"
   ]
  },
  {
   "cell_type": "code",
   "execution_count": 6,
   "id": "e66f93d6-d70a-4081-82d9-0e58af4e76ba",
   "metadata": {},
   "outputs": [
    {
     "name": "stdout",
     "output_type": "stream",
     "text": [
      "Student_ID                int64\n",
      "Study_Hours               int64\n",
      "Attendance                int64\n",
      "Rest_Hours              float64\n",
      "Parental_Involvement     object\n",
      "Access_to_Resources      object\n",
      "dtype: object\n",
      "Unnamed: 0             int64\n",
      "Student_ID             int64\n",
      "Internet_Access       object\n",
      "Tutoring_Sessions    float64\n",
      "Family_Income         object\n",
      "Teacher_Quality       object\n",
      "School_Type           object\n",
      "dtype: object\n",
      "Student_ID                    int64\n",
      "Final_Score                 float64\n",
      "Parental_Education_Level     object\n",
      "Distance_from_Home           object\n",
      "Gender                       object\n",
      "dtype: object\n"
     ]
    }
   ],
   "source": [
    "print(df1.dtypes)\n",
    "print(df2.dtypes)\n",
    "print(df3.dtypes)"
   ]
  },
  {
   "cell_type": "code",
   "execution_count": 7,
   "id": "8131e238-f29e-4030-b45f-e7315a0b55b0",
   "metadata": {},
   "outputs": [
    {
     "name": "stdout",
     "output_type": "stream",
     "text": [
      "        Student_ID  Study_Hours   Attendance   Rest_Hours\n",
      "count  6607.000000  6607.000000  6607.000000  6277.000000\n",
      "mean   3304.000000    19.975329    79.977448     8.035049\n",
      "std    1907.420946     5.990594    11.547475     1.466553\n",
      "min       1.000000     1.000000    60.000000     5.000000\n",
      "25%    1652.500000    16.000000    70.000000     7.000000\n",
      "50%    3304.000000    20.000000    80.000000     8.000000\n",
      "75%    4955.500000    24.000000    90.000000     9.000000\n",
      "max    6607.000000    44.000000   100.000000    11.000000\n",
      "        Unnamed: 0   Student_ID  Tutoring_Sessions\n",
      "count  5616.000000  5616.000000        5335.000000\n",
      "mean   3282.341168  3283.341168           1.488660\n",
      "std    1910.720857  1910.720857           1.226585\n",
      "min       0.000000     1.000000           0.000000\n",
      "25%    1617.750000  1618.750000           1.000000\n",
      "50%    3283.500000  3284.500000           1.000000\n",
      "75%    4928.500000  4929.500000           2.000000\n",
      "max    6606.000000  6607.000000           8.000000\n",
      "        Student_ID  Final_Score\n",
      "count  6607.000000  6277.000000\n",
      "mean   3304.000000    65.239286\n",
      "std    1907.420946     3.901198\n",
      "min       1.000000    54.000000\n",
      "25%    1652.500000    63.000000\n",
      "50%    3304.000000    65.000000\n",
      "75%    4955.500000    67.000000\n",
      "max    6607.000000    99.000000\n"
     ]
    }
   ],
   "source": [
    "print(df1.describe())\n",
    "print(df2.describe())\n",
    "print(df3.describe())"
   ]
  },
  {
   "cell_type": "code",
   "execution_count": 8,
   "id": "7386ea14-e34c-4d2f-a7cd-1ad0c8beecf8",
   "metadata": {},
   "outputs": [],
   "source": [
    "#Reconstruct the original dataset by:\n",
    "#Adjusting column names and data types."
   ]
  },
  {
   "cell_type": "code",
   "execution_count": 9,
   "id": "8b1af4f4-8a0f-4d73-92af-130812101696",
   "metadata": {},
   "outputs": [
    {
     "name": "stdout",
     "output_type": "stream",
     "text": [
      "   Student_ID  Study_Hours  Attendance  Rest_Hours Parental_Involvement  \\\n",
      "0           1           23          84         8.0                  Low   \n",
      "1           2           19          64         9.0                  Low   \n",
      "2           3           24          98         8.0               Medium   \n",
      "3           4           29          89         9.0                  Low   \n",
      "4           5           19          92         7.0               Medium   \n",
      "\n",
      "  Access_to_Resources  \n",
      "0                High  \n",
      "1              Medium  \n",
      "2              Medium  \n",
      "3              Medium  \n",
      "4              Medium  \n",
      "   Unnamed: 0  Student_ID Internet_Access  Tutoring_Sessions Family_Income  \\\n",
      "0         743         744       Available                1.0        Medium   \n",
      "1        5551        5552       Available                2.0           Low   \n",
      "2        3442        3443       Available                1.0        Medium   \n",
      "3        6571        6572       Available                0.0           Low   \n",
      "4        4204        4205       Available                2.0          High   \n",
      "\n",
      "  Teacher_Quality School_Type  \n",
      "0          Medium      Public  \n",
      "1            High      Public  \n",
      "2          Medium      Public  \n",
      "3             Low      Public  \n",
      "4          Medium      Public  \n",
      "   Student_ID  Final_Score Parental_Education_Level Distance_from_Home  Gender\n",
      "0           1         65.0              High School              Close    Male\n",
      "1           2         59.0                  College             Medium  Female\n",
      "2           3         72.0             Postgraduate              Close    Male\n",
      "3           4         69.0              High School             Medium    Male\n",
      "4           5         68.0                  College              Close  Female\n"
     ]
    }
   ],
   "source": [
    "print(df1.head())\n",
    "print(df2.head())\n",
    "print(df3.head())"
   ]
  },
  {
   "cell_type": "code",
   "execution_count": 10,
   "id": "75c7eaa2-d083-49c8-a709-a3e80219c9ad",
   "metadata": {},
   "outputs": [],
   "source": [
    "df2.set_index(\"Student_ID\", inplace=True)\n",
    "df3.set_index(\"Student_ID\", inplace = True)"
   ]
  },
  {
   "cell_type": "code",
   "execution_count": 11,
   "id": "572eb90e-3ac2-4c79-9292-a4ed726afa93",
   "metadata": {},
   "outputs": [],
   "source": [
    "df2.sort_index(level=\"Student_ID\", inplace=True)\n",
    "df3.sort_index(level=\"Student_ID\", inplace=True)"
   ]
  },
  {
   "cell_type": "code",
   "execution_count": 12,
   "id": "dde25748-47ff-4530-bcd4-9b139cf75ba2",
   "metadata": {},
   "outputs": [],
   "source": [
    "df2[\"Internet_Access\"] = df2[\"Internet_Access\"].replace({\"Available\": \"Yes\", \"Unavailable\": \"No\"})\n",
    "df3[\"Distance_from_Home\"] = df3[\"Distance_from_Home\"].replace({\"Close\": \"Low\", \"Distant\": \"High\"})"
   ]
  },
  {
   "cell_type": "code",
   "execution_count": 13,
   "id": "492882a6-d9b7-4b98-a160-d800d25f0d80",
   "metadata": {},
   "outputs": [],
   "source": [
    "df2 = df2.drop(columns=[\"Unnamed: 0\"])"
   ]
  },
  {
   "cell_type": "code",
   "execution_count": 14,
   "id": "c93779d0-976b-4101-a41a-c6e674264498",
   "metadata": {},
   "outputs": [],
   "source": [
    "#Correctly merging the datasets.\n",
    "df_merged = df1.merge(df2, on=\"Student_ID\", how=\"outer\").merge(df3, on=\"Student_ID\", how=\"outer\")"
   ]
  },
  {
   "cell_type": "code",
   "execution_count": 15,
   "id": "7f892234-b089-42ca-8674-d08ab68fc151",
   "metadata": {},
   "outputs": [
    {
     "data": {
      "text/html": [
       "<div>\n",
       "<style scoped>\n",
       "    .dataframe tbody tr th:only-of-type {\n",
       "        vertical-align: middle;\n",
       "    }\n",
       "\n",
       "    .dataframe tbody tr th {\n",
       "        vertical-align: top;\n",
       "    }\n",
       "\n",
       "    .dataframe thead th {\n",
       "        text-align: right;\n",
       "    }\n",
       "</style>\n",
       "<table border=\"1\" class=\"dataframe\">\n",
       "  <thead>\n",
       "    <tr style=\"text-align: right;\">\n",
       "      <th></th>\n",
       "      <th>Student_ID</th>\n",
       "      <th>Study_Hours</th>\n",
       "      <th>Attendance</th>\n",
       "      <th>Rest_Hours</th>\n",
       "      <th>Parental_Involvement</th>\n",
       "      <th>Access_to_Resources</th>\n",
       "      <th>Internet_Access</th>\n",
       "      <th>Tutoring_Sessions</th>\n",
       "      <th>Family_Income</th>\n",
       "      <th>Teacher_Quality</th>\n",
       "      <th>School_Type</th>\n",
       "      <th>Final_Score</th>\n",
       "      <th>Parental_Education_Level</th>\n",
       "      <th>Distance_from_Home</th>\n",
       "      <th>Gender</th>\n",
       "    </tr>\n",
       "  </thead>\n",
       "  <tbody>\n",
       "    <tr>\n",
       "      <th>0</th>\n",
       "      <td>1</td>\n",
       "      <td>23</td>\n",
       "      <td>84</td>\n",
       "      <td>8.0</td>\n",
       "      <td>Low</td>\n",
       "      <td>High</td>\n",
       "      <td>Yes</td>\n",
       "      <td>0.0</td>\n",
       "      <td>Low</td>\n",
       "      <td>Medium</td>\n",
       "      <td>Public</td>\n",
       "      <td>65.0</td>\n",
       "      <td>High School</td>\n",
       "      <td>Low</td>\n",
       "      <td>Male</td>\n",
       "    </tr>\n",
       "    <tr>\n",
       "      <th>1</th>\n",
       "      <td>2</td>\n",
       "      <td>19</td>\n",
       "      <td>64</td>\n",
       "      <td>9.0</td>\n",
       "      <td>Low</td>\n",
       "      <td>Medium</td>\n",
       "      <td>Yes</td>\n",
       "      <td>2.0</td>\n",
       "      <td>Medium</td>\n",
       "      <td>Medium</td>\n",
       "      <td>Public</td>\n",
       "      <td>59.0</td>\n",
       "      <td>College</td>\n",
       "      <td>Medium</td>\n",
       "      <td>Female</td>\n",
       "    </tr>\n",
       "    <tr>\n",
       "      <th>2</th>\n",
       "      <td>3</td>\n",
       "      <td>24</td>\n",
       "      <td>98</td>\n",
       "      <td>8.0</td>\n",
       "      <td>Medium</td>\n",
       "      <td>Medium</td>\n",
       "      <td>Yes</td>\n",
       "      <td>2.0</td>\n",
       "      <td>Medium</td>\n",
       "      <td>Medium</td>\n",
       "      <td>Public</td>\n",
       "      <td>72.0</td>\n",
       "      <td>Postgraduate</td>\n",
       "      <td>Low</td>\n",
       "      <td>Male</td>\n",
       "    </tr>\n",
       "    <tr>\n",
       "      <th>3</th>\n",
       "      <td>4</td>\n",
       "      <td>29</td>\n",
       "      <td>89</td>\n",
       "      <td>9.0</td>\n",
       "      <td>Low</td>\n",
       "      <td>Medium</td>\n",
       "      <td>Yes</td>\n",
       "      <td>1.0</td>\n",
       "      <td>Medium</td>\n",
       "      <td>Medium</td>\n",
       "      <td>Public</td>\n",
       "      <td>69.0</td>\n",
       "      <td>High School</td>\n",
       "      <td>Medium</td>\n",
       "      <td>Male</td>\n",
       "    </tr>\n",
       "    <tr>\n",
       "      <th>4</th>\n",
       "      <td>5</td>\n",
       "      <td>19</td>\n",
       "      <td>92</td>\n",
       "      <td>7.0</td>\n",
       "      <td>Medium</td>\n",
       "      <td>Medium</td>\n",
       "      <td>NaN</td>\n",
       "      <td>NaN</td>\n",
       "      <td>NaN</td>\n",
       "      <td>NaN</td>\n",
       "      <td>NaN</td>\n",
       "      <td>68.0</td>\n",
       "      <td>College</td>\n",
       "      <td>Low</td>\n",
       "      <td>Female</td>\n",
       "    </tr>\n",
       "  </tbody>\n",
       "</table>\n",
       "</div>"
      ],
      "text/plain": [
       "   Student_ID  Study_Hours  Attendance  Rest_Hours Parental_Involvement  \\\n",
       "0           1           23          84         8.0                  Low   \n",
       "1           2           19          64         9.0                  Low   \n",
       "2           3           24          98         8.0               Medium   \n",
       "3           4           29          89         9.0                  Low   \n",
       "4           5           19          92         7.0               Medium   \n",
       "\n",
       "  Access_to_Resources Internet_Access  Tutoring_Sessions Family_Income  \\\n",
       "0                High             Yes                0.0           Low   \n",
       "1              Medium             Yes                2.0        Medium   \n",
       "2              Medium             Yes                2.0        Medium   \n",
       "3              Medium             Yes                1.0        Medium   \n",
       "4              Medium             NaN                NaN           NaN   \n",
       "\n",
       "  Teacher_Quality School_Type  Final_Score Parental_Education_Level  \\\n",
       "0          Medium      Public         65.0              High School   \n",
       "1          Medium      Public         59.0                  College   \n",
       "2          Medium      Public         72.0             Postgraduate   \n",
       "3          Medium      Public         69.0              High School   \n",
       "4             NaN         NaN         68.0                  College   \n",
       "\n",
       "  Distance_from_Home  Gender  \n",
       "0                Low    Male  \n",
       "1             Medium  Female  \n",
       "2                Low    Male  \n",
       "3             Medium    Male  \n",
       "4                Low  Female  "
      ]
     },
     "execution_count": 15,
     "metadata": {},
     "output_type": "execute_result"
    }
   ],
   "source": [
    "df_merged.head()"
   ]
  },
  {
   "cell_type": "code",
   "execution_count": 16,
   "id": "f4073d5f-7496-488d-8fda-b3182d391b02",
   "metadata": {},
   "outputs": [],
   "source": [
    "#BlockingIOErrorHandling missing values (imputation) and justifying your chosen method."
   ]
  },
  {
   "cell_type": "code",
   "execution_count": 17,
   "id": "0b540f79-97cf-4a07-8617-aadd357399be",
   "metadata": {},
   "outputs": [
    {
     "name": "stdout",
     "output_type": "stream",
     "text": [
      "Student_ID                   0.0\n",
      "Study_Hours                  0.0\n",
      "Attendance                   0.0\n",
      "Rest_Hours                   5.0\n",
      "Parental_Involvement         0.0\n",
      "Access_to_Resources          0.0\n",
      "Internet_Access             19.0\n",
      "Tutoring_Sessions           19.0\n",
      "Family_Income               15.0\n",
      "Teacher_Quality             16.0\n",
      "School_Type                 15.0\n",
      "Final_Score                  5.0\n",
      "Parental_Education_Level     1.0\n",
      "Distance_from_Home           1.0\n",
      "Gender                       0.0\n",
      "dtype: float64\n",
      "   Student_ID  Study_Hours  Attendance  Rest_Hours Parental_Involvement  \\\n",
      "0           1           23          84         8.0                  Low   \n",
      "1           2           19          64         9.0                  Low   \n",
      "2           3           24          98         8.0               Medium   \n",
      "3           4           29          89         9.0                  Low   \n",
      "4           5           19          92         7.0               Medium   \n",
      "\n",
      "  Access_to_Resources Internet_Access  Tutoring_Sessions Family_Income  \\\n",
      "0                High             Yes                0.0           Low   \n",
      "1              Medium             Yes                2.0        Medium   \n",
      "2              Medium             Yes                2.0        Medium   \n",
      "3              Medium             Yes                1.0        Medium   \n",
      "4              Medium             NaN                NaN           NaN   \n",
      "\n",
      "  Teacher_Quality School_Type  Final_Score Parental_Education_Level  \\\n",
      "0          Medium      Public         65.0              High School   \n",
      "1          Medium      Public         59.0                  College   \n",
      "2          Medium      Public         72.0             Postgraduate   \n",
      "3          Medium      Public         69.0              High School   \n",
      "4             NaN         NaN         68.0                  College   \n",
      "\n",
      "  Distance_from_Home  Gender  \n",
      "0                Low    Male  \n",
      "1             Medium  Female  \n",
      "2                Low    Male  \n",
      "3             Medium    Male  \n",
      "4                Low  Female  \n"
     ]
    }
   ],
   "source": [
    "missing_percent = (df_merged.isnull().sum() / len(df_merged) * 100).round()\n",
    "print(missing_percent)\n",
    "print(df_merged.head())"
   ]
  },
  {
   "cell_type": "code",
   "execution_count": 18,
   "id": "e0b5f7f3-c6a6-4a0e-8481-908ec650e450",
   "metadata": {},
   "outputs": [
    {
     "data": {
      "image/png": "[encoded data removed]",
      "text/plain": [
       "<Figure size 1000x600 with 1 Axes>"
      ]
     },
     "metadata": {},
     "output_type": "display_data"
    }
   ],
   "source": [
    "import seaborn as sns\n",
    "import matplotlib.pyplot as plt\n",
    "\n",
    "plt.figure(figsize=(10,6))\n",
    "sns.heatmap(df_merged.isnull(), cmap=\"viridis\", cbar=False)\n",
    "plt.title(\"Missing Values Heatmap\")\n",
    "plt.show()"
   ]
  },
  {
   "cell_type": "code",
   "execution_count": 19,
   "id": "fe6d6c67-66bd-4409-a2fe-57d3be11bff9",
   "metadata": {},
   "outputs": [],
   "source": [
    "#Variables needing imputation, their NA%, type of imputation and reasoning:\n",
    "#Rest_Hours                   5.0%\n",
    "    #Imputation method: Median Imputation\n",
    "    #Reason: numerical variable with a relatively small amount of NAs; less sensitive towards outliers compared to mean imputation\n",
    "#Internet_Access             19.0%\n",
    "    #Imputation method: Mode Imputation\n",
    "    #Reason: binary variable with a relatively large amount of NAs; in my opinion, internet access cannot easily be predicted /estimated by other variables or patterns\n",
    "#Tutoring_Sessions           19.0%\n",
    "    #Imputation method: KNN Imputation\n",
    "    #Reason: numerical variable with a relatively large amount of NAs; in my opinion, can be estimated based on patterns in parental income and parental involvement\n",
    "#Family_Income               15.0%\n",
    "    #Imputation method: Mode Imputation\n",
    "    #Reason: categorical variable with a relatively large amount of NAs; in my opinion, family income cannot easily be predicted /estimated by other variables or patterns\n",
    "#Teacher_Quality             16.0%\n",
    "    #Imputation method: Mode Imputation\n",
    "    #Reason: categorical variable with a relatively large amount of NAs; in my opinion, teacher quality cannot easily be predicted /estimated by other variables or patterns\n",
    "#School_Type                 15.0%\n",
    "    #Imputation method: KNN Imputation\n",
    "    #Reason: categorical variable with a relatively large amount of NAs;  in my opinion, school type cannot easily be predicted /estimated by other variables or patterns\n",
    "#Final_Score                  5.0%\n",
    "    #Imputation method: Iterative Computer\n",
    "    #Reason: numerical variable with a relatively small amount of NAs; can be predicted based on study hours, attendance and rest hours\n",
    "#Parental_Education_Level     1.0%\n",
    "    #Imputation method: Mode Imputation\n",
    "    #Reason: categorical variable with a relatively small amount of NAs\n",
    "#Distance_from_Home           1.0%\n",
    "    #Imputation method: Mode Imputation\n",
    "    #Reason: categorical variable with a relatively small amount of NAs"
   ]
  },
  {
   "cell_type": "code",
   "execution_count": 20,
   "id": "92de1801-9aff-438a-808c-08bfa2b56232",
   "metadata": {},
   "outputs": [],
   "source": [
    "from sklearn.impute import SimpleImputer\n",
    "\n",
    "imputer_median = SimpleImputer(strategy='median')\n",
    "df_merged['Rest_Hours'] = imputer_median.fit_transform(df_merged[['Rest_Hours']])"
   ]
  },
  {
   "cell_type": "code",
   "execution_count": 21,
   "id": "85e5d5f4-1eff-47f0-9858-ff19d37f0f09",
   "metadata": {},
   "outputs": [],
   "source": [
    "imputer_mode = SimpleImputer(strategy='most_frequent')\n",
    "df_merged['Internet_Access'] = imputer_mode.fit_transform(df_merged[['Internet_Access']]).flatten()"
   ]
  },
  {
   "cell_type": "code",
   "execution_count": 22,
   "id": "9dcf493e-95f4-448d-aa3f-89c315c8c729",
   "metadata": {},
   "outputs": [],
   "source": [
    "from sklearn.impute import SimpleImputer, KNNImputer\n",
    "import numpy as np\n",
    "\n",
    "knn_imputer = KNNImputer(n_neighbors=5)\n",
    "df_merged[['Tutoring_Sessions']] = knn_imputer.fit_transform(df_merged[['Tutoring_Sessions']])"
   ]
  },
  {
   "cell_type": "code",
   "execution_count": 23,
   "id": "6944a050-c6f6-4029-91a1-287cfdd19305",
   "metadata": {},
   "outputs": [],
   "source": [
    "from sklearn.impute import SimpleImputer\n",
    "\n",
    "mode_imputer = SimpleImputer(strategy=\"most_frequent\")\n",
    "df_merged[['Family_Income']] = mode_imputer.fit_transform(df_merged[['Family_Income']])"
   ]
  },
  {
   "cell_type": "code",
   "execution_count": 24,
   "id": "3e7716c5-633e-456b-93b1-dfccc7c61f23",
   "metadata": {},
   "outputs": [],
   "source": [
    "from sklearn.impute import SimpleImputer\n",
    "\n",
    "imputer_mode = SimpleImputer(strategy='most_frequent')\n",
    "df_merged['Teacher_Quality'] = imputer_mode.fit_transform(df_merged[['Teacher_Quality']]).flatten()"
   ]
  },
  {
   "cell_type": "code",
   "execution_count": 25,
   "id": "03560497-2a22-41f8-a1d2-61ff0dffd8b6",
   "metadata": {},
   "outputs": [],
   "source": [
    "from sklearn.impute import SimpleImputer\n",
    "\n",
    "mode_imputer = SimpleImputer(strategy=\"most_frequent\")\n",
    "df_merged[['School_Type']] = mode_imputer.fit_transform(df_merged[['School_Type']])"
   ]
  },
  {
   "cell_type": "code",
   "execution_count": 26,
   "id": "71e5b7da-f250-4086-8162-d79f79d0ee65",
   "metadata": {},
   "outputs": [],
   "source": [
    "from sklearn.experimental import enable_iterative_imputer\n",
    "from sklearn.impute import IterativeImputer\n",
    "\n",
    "imputer = IterativeImputer(max_iter=10, random_state=42)\n",
    "df_merged[['Final_Score']] = imputer.fit_transform(df_merged[['Final_Score']])"
   ]
  },
  {
   "cell_type": "code",
   "execution_count": 27,
   "id": "fe6f79d7-8459-48f5-a6ba-1a79e89826f2",
   "metadata": {},
   "outputs": [],
   "source": [
    "from sklearn.impute import SimpleImputer\n",
    "\n",
    "imputer_mode = SimpleImputer(strategy='most_frequent')\n",
    "df_merged['Parental_Education_Level'] = imputer_mode.fit_transform(df_merged[['Parental_Education_Level']]).flatten()"
   ]
  },
  {
   "cell_type": "code",
   "execution_count": 28,
   "id": "3a072863-1a38-44e6-add2-825884a543ee",
   "metadata": {},
   "outputs": [],
   "source": [
    "from sklearn.impute import SimpleImputer\n",
    "\n",
    "imputer_mode = SimpleImputer(strategy='most_frequent')\n",
    "df_merged['Distance_from_Home'] = imputer_mode.fit_transform(df_merged[['Distance_from_Home']]).flatten()"
   ]
  },
  {
   "cell_type": "code",
   "execution_count": 29,
   "id": "92b4627e-9456-4101-975d-9d07b9bef49d",
   "metadata": {},
   "outputs": [
    {
     "name": "stdout",
     "output_type": "stream",
     "text": [
      "Student_ID                  0\n",
      "Study_Hours                 0\n",
      "Attendance                  0\n",
      "Rest_Hours                  0\n",
      "Parental_Involvement        0\n",
      "Access_to_Resources         0\n",
      "Internet_Access             0\n",
      "Tutoring_Sessions           0\n",
      "Family_Income               0\n",
      "Teacher_Quality             0\n",
      "School_Type                 0\n",
      "Final_Score                 0\n",
      "Parental_Education_Level    0\n",
      "Distance_from_Home          0\n",
      "Gender                      0\n",
      "dtype: int64\n"
     ]
    }
   ],
   "source": [
    "print(df_merged.isnull().sum())"
   ]
  },
  {
   "cell_type": "markdown",
   "id": "f2e28515a6e718f1",
   "metadata": {},
   "source": [
    "### Hypotheses testing\n",
    "\n",
    "Hypothesis 1: There is a positive correlation between the number of hours of sleep (Sleep_Hours) and the exam grade (Exam_Score).\n",
    "- Remove potential outliers (e.g. students who sleep extremely little or extremely much, i.e. top and bottom 3 %).\n",
    "- First check whether the variables are normally distributed. If not, apply Spearman correlation."
   ]
  },
  {
   "cell_type": "code",
   "execution_count": 30,
   "id": "290fe3a9cb4f9f67",
   "metadata": {},
   "outputs": [],
   "source": [
    "df_merged[\"Sleep_Hours\"] = df_merged[\"Rest_Hours\"]\n",
    "df_merged[\"Exam_Score\"] = df_merged[\"Final_Score\"]\n",
    "df_merged.drop(columns=[\"Rest_Hours\", \"Final_Score\"], inplace=True)"
   ]
  },
  {
   "cell_type": "code",
   "execution_count": 31,
   "id": "53d7faf2-5b7d-4031-b8f3-2ed36df10964",
   "metadata": {},
   "outputs": [
    {
     "data": {
      "text/html": [
       "<div>\n",
       "<style scoped>\n",
       "    .dataframe tbody tr th:only-of-type {\n",
       "        vertical-align: middle;\n",
       "    }\n",
       "\n",
       "    .dataframe tbody tr th {\n",
       "        vertical-align: top;\n",
       "    }\n",
       "\n",
       "    .dataframe thead th {\n",
       "        text-align: right;\n",
       "    }\n",
       "</style>\n",
       "<table border=\"1\" class=\"dataframe\">\n",
       "  <thead>\n",
       "    <tr style=\"text-align: right;\">\n",
       "      <th></th>\n",
       "      <th>Student_ID</th>\n",
       "      <th>Study_Hours</th>\n",
       "      <th>Attendance</th>\n",
       "      <th>Parental_Involvement</th>\n",
       "      <th>Access_to_Resources</th>\n",
       "      <th>Internet_Access</th>\n",
       "      <th>Tutoring_Sessions</th>\n",
       "      <th>Family_Income</th>\n",
       "      <th>Teacher_Quality</th>\n",
       "      <th>School_Type</th>\n",
       "      <th>Parental_Education_Level</th>\n",
       "      <th>Distance_from_Home</th>\n",
       "      <th>Gender</th>\n",
       "      <th>Sleep_Hours</th>\n",
       "      <th>Exam_Score</th>\n",
       "    </tr>\n",
       "  </thead>\n",
       "  <tbody>\n",
       "    <tr>\n",
       "      <th>0</th>\n",
       "      <td>1</td>\n",
       "      <td>23</td>\n",
       "      <td>84</td>\n",
       "      <td>Low</td>\n",
       "      <td>High</td>\n",
       "      <td>Yes</td>\n",
       "      <td>0.00000</td>\n",
       "      <td>Low</td>\n",
       "      <td>Medium</td>\n",
       "      <td>Public</td>\n",
       "      <td>High School</td>\n",
       "      <td>Low</td>\n",
       "      <td>Male</td>\n",
       "      <td>8.0</td>\n",
       "      <td>65.0</td>\n",
       "    </tr>\n",
       "    <tr>\n",
       "      <th>1</th>\n",
       "      <td>2</td>\n",
       "      <td>19</td>\n",
       "      <td>64</td>\n",
       "      <td>Low</td>\n",
       "      <td>Medium</td>\n",
       "      <td>Yes</td>\n",
       "      <td>2.00000</td>\n",
       "      <td>Medium</td>\n",
       "      <td>Medium</td>\n",
       "      <td>Public</td>\n",
       "      <td>College</td>\n",
       "      <td>Medium</td>\n",
       "      <td>Female</td>\n",
       "      <td>9.0</td>\n",
       "      <td>59.0</td>\n",
       "    </tr>\n",
       "    <tr>\n",
       "      <th>2</th>\n",
       "      <td>3</td>\n",
       "      <td>24</td>\n",
       "      <td>98</td>\n",
       "      <td>Medium</td>\n",
       "      <td>Medium</td>\n",
       "      <td>Yes</td>\n",
       "      <td>2.00000</td>\n",
       "      <td>Medium</td>\n",
       "      <td>Medium</td>\n",
       "      <td>Public</td>\n",
       "      <td>Postgraduate</td>\n",
       "      <td>Low</td>\n",
       "      <td>Male</td>\n",
       "      <td>8.0</td>\n",
       "      <td>72.0</td>\n",
       "    </tr>\n",
       "    <tr>\n",
       "      <th>3</th>\n",
       "      <td>4</td>\n",
       "      <td>29</td>\n",
       "      <td>89</td>\n",
       "      <td>Low</td>\n",
       "      <td>Medium</td>\n",
       "      <td>Yes</td>\n",
       "      <td>1.00000</td>\n",
       "      <td>Medium</td>\n",
       "      <td>Medium</td>\n",
       "      <td>Public</td>\n",
       "      <td>High School</td>\n",
       "      <td>Medium</td>\n",
       "      <td>Male</td>\n",
       "      <td>9.0</td>\n",
       "      <td>69.0</td>\n",
       "    </tr>\n",
       "    <tr>\n",
       "      <th>4</th>\n",
       "      <td>5</td>\n",
       "      <td>19</td>\n",
       "      <td>92</td>\n",
       "      <td>Medium</td>\n",
       "      <td>Medium</td>\n",
       "      <td>Yes</td>\n",
       "      <td>1.48866</td>\n",
       "      <td>Medium</td>\n",
       "      <td>Medium</td>\n",
       "      <td>Public</td>\n",
       "      <td>College</td>\n",
       "      <td>Low</td>\n",
       "      <td>Female</td>\n",
       "      <td>7.0</td>\n",
       "      <td>68.0</td>\n",
       "    </tr>\n",
       "  </tbody>\n",
       "</table>\n",
       "</div>"
      ],
      "text/plain": [
       "   Student_ID  Study_Hours  Attendance Parental_Involvement  \\\n",
       "0           1           23          84                  Low   \n",
       "1           2           19          64                  Low   \n",
       "2           3           24          98               Medium   \n",
       "3           4           29          89                  Low   \n",
       "4           5           19          92               Medium   \n",
       "\n",
       "  Access_to_Resources Internet_Access  Tutoring_Sessions Family_Income  \\\n",
       "0                High             Yes            0.00000           Low   \n",
       "1              Medium             Yes            2.00000        Medium   \n",
       "2              Medium             Yes            2.00000        Medium   \n",
       "3              Medium             Yes            1.00000        Medium   \n",
       "4              Medium             Yes            1.48866        Medium   \n",
       "\n",
       "  Teacher_Quality School_Type Parental_Education_Level Distance_from_Home  \\\n",
       "0          Medium      Public              High School                Low   \n",
       "1          Medium      Public                  College             Medium   \n",
       "2          Medium      Public             Postgraduate                Low   \n",
       "3          Medium      Public              High School             Medium   \n",
       "4          Medium      Public                  College                Low   \n",
       "\n",
       "   Gender  Sleep_Hours  Exam_Score  \n",
       "0    Male          8.0        65.0  \n",
       "1  Female          9.0        59.0  \n",
       "2    Male          8.0        72.0  \n",
       "3    Male          9.0        69.0  \n",
       "4  Female          7.0        68.0  "
      ]
     },
     "execution_count": 31,
     "metadata": {},
     "output_type": "execute_result"
    }
   ],
   "source": [
    "df_merged.head()"
   ]
  },
  {
   "cell_type": "code",
   "execution_count": 32,
   "id": "5da8da40-68eb-4c93-9d86-dbd982594abd",
   "metadata": {},
   "outputs": [],
   "source": [
    "#removing top and bottom 5%\n",
    "lower_bound = df_merged[\"Sleep_Hours\"].quantile(0.05)\n",
    "upper_bound = df_merged[\"Sleep_Hours\"].quantile(0.95)\n",
    "\n",
    "df_clean = df_merged[(df_merged[\"Sleep_Hours\"] >= lower_bound) & (df_merged[\"Sleep_Hours\"] <= upper_bound)]"
   ]
  },
  {
   "cell_type": "code",
   "execution_count": 33,
   "id": "f037c1a1-0ca0-4c77-b449-aa85e5516281",
   "metadata": {},
   "outputs": [
    {
     "data": {
      "text/plain": [
       "count    6020.000000\n",
       "mean        8.035050\n",
       "std         1.168309\n",
       "min         6.000000\n",
       "25%         7.000000\n",
       "50%         8.000000\n",
       "75%         9.000000\n",
       "max        10.000000\n",
       "Name: Sleep_Hours, dtype: float64"
      ]
     },
     "execution_count": 33,
     "metadata": {},
     "output_type": "execute_result"
    }
   ],
   "source": [
    "df_clean[\"Sleep_Hours\"].describe()"
   ]
  },
  {
   "cell_type": "code",
   "execution_count": 34,
   "id": "2529d7a969675c6b",
   "metadata": {},
   "outputs": [
    {
     "data": {
      "image/png": "[encoded data removed]",
      "text/plain": [
       "<Figure size 640x480 with 1 Axes>"
      ]
     },
     "metadata": {},
     "output_type": "display_data"
    }
   ],
   "source": [
    "import matplotlib.pyplot as plt\n",
    "import seaborn as sns\n",
    "\n",
    "sns.histplot(df_clean[\"Sleep_Hours\"], kde=True, bins=30)\n",
    "plt.title(\"Distribution of Sleep Hours\")\n",
    "plt.show()"
   ]
  },
  {
   "cell_type": "code",
   "execution_count": 35,
   "id": "b23e20d2-043c-4bf5-8266-01a78b8bf24f",
   "metadata": {},
   "outputs": [
    {
     "data": {
      "image/png": "[encoded data removed]",
      "text/plain": [
       "<Figure size 640x480 with 1 Axes>"
      ]
     },
     "metadata": {},
     "output_type": "display_data"
    }
   ],
   "source": [
    "sns.histplot(df_clean[\"Exam_Score\"], kde=True, bins=30)\n",
    "plt.title(\"Distribution of Exam Scores\")\n",
    "plt.show()"
   ]
  },
  {
   "cell_type": "code",
   "execution_count": 36,
   "id": "df6316da-c25a-47d9-b4c7-1585835fe2ef",
   "metadata": {},
   "outputs": [
    {
     "name": "stdout",
     "output_type": "stream",
     "text": [
      "Spearman Correlation: -0.0003280089757800206, p-value = 0.9797004228460258\n"
     ]
    }
   ],
   "source": [
    "#Exam Scores are right skewed, so we have to apply the Spearman correlation test:\n",
    "from scipy.stats import spearmanr\n",
    "\n",
    "corr, p_value = spearmanr(df_clean[\"Sleep_Hours\"], df_clean[\"Exam_Score\"])\n",
    "print(f\"Spearman Correlation: {corr}, p-value = {p_value}\")"
   ]
  },
  {
   "cell_type": "code",
   "execution_count": 37,
   "id": "47488f42-804f-4d72-80c5-51f6e5204929",
   "metadata": {},
   "outputs": [],
   "source": [
    "#No significant association between Sleep Hours and Exam Score"
   ]
  },
  {
   "cell_type": "markdown",
   "id": "fa1453d49a429749",
   "metadata": {},
   "source": [
    "Hypothesis 2: Students with Internet access (Internet_Access) spend more time studying (Hours_Studied) than students without Internet access.\n",
    "- Create a boxplot for visualization and check for outliers.\n",
    "- Remove extreme values according to boxplot definition."
   ]
  },
  {
   "cell_type": "code",
   "execution_count": 38,
   "id": "1fe83a2b-a3b7-49a7-928e-45520ea773e2",
   "metadata": {},
   "outputs": [
    {
     "data": {
      "image/png": "[encoded data removed]",
      "text/plain": [
       "<Figure size 800x600 with 1 Axes>"
      ]
     },
     "metadata": {},
     "output_type": "display_data"
    }
   ],
   "source": [
    "df_merged[\"Hours_Studied\"] = df_merged[\"Study_Hours\"]\n",
    "df_merged.drop(columns=[\"Study_Hours\"], inplace=True)\n",
    "\n",
    "import seaborn as sns\n",
    "import matplotlib.pyplot as plt\n",
    "\n",
    "plt.figure(figsize=(8, 6))\n",
    "sns.boxplot(x=\"Internet_Access\", y=\"Hours_Studied\", data=df_merged)\n",
    "\n",
    "plt.title(\"Hours Studied by Internet Access\")\n",
    "plt.xlabel(\"Internet Access (0 = No, 1 = Yes)\")\n",
    "plt.ylabel(\"Hours Studied\")\n",
    "\n",
    "plt.show()"
   ]
  },
  {
   "cell_type": "code",
   "execution_count": 39,
   "id": "cf65caa5-4577-426f-9617-4538d5343536",
   "metadata": {},
   "outputs": [],
   "source": [
    "Q1 = df_merged[\"Hours_Studied\"].quantile(0.25)\n",
    "Q3 = df_merged[\"Hours_Studied\"].quantile(0.75)\n",
    "IQR = Q3 - Q1\n",
    "\n",
    "# Define outlier bounds\n",
    "lower_bound = Q1 - 1.5 * IQR\n",
    "upper_bound = Q3 + 1.5 * IQR\n",
    "\n",
    "df_cleaned = df_merged[(df_merged[\"Hours_Studied\"] >= lower_bound) & (df_merged[\"Hours_Studied\"] <= upper_bound)]"
   ]
  },
  {
   "cell_type": "code",
   "execution_count": 40,
   "id": "238cc955-4cdd-4ac4-8c99-dbf700b4c9a3",
   "metadata": {},
   "outputs": [],
   "source": [
    "import pandas as pd\n",
    "from scipy.stats import ttest_ind\n",
    "\n",
    "Access = df_cleaned[df_cleaned[\"Internet_Access\"]== \"Yes\"][\"Hours_Studied\"]\n",
    "No_Access = df_cleaned[df_cleaned[\"Internet_Access\"]== \"No\"][\"Hours_Studied\"]"
   ]
  },
  {
   "cell_type": "code",
   "execution_count": 41,
   "id": "cc8a2086-c516-430c-b5e3-0b899af09eba",
   "metadata": {},
   "outputs": [
    {
     "name": "stdout",
     "output_type": "stream",
     "text": [
      "t-statistic: 0.5011631458822883, p-value: 0.6165013470835043\n"
     ]
    }
   ],
   "source": [
    "t_stat, p_value = ttest_ind(Access, No_Access, equal_var=False)\n",
    "\n",
    "print(f\"t-statistic: {t_stat}, p-value: {p_value}\")"
   ]
  },
  {
   "cell_type": "code",
   "execution_count": 42,
   "id": "963e4bea-9f85-4c54-b625-c0d50aa300fe",
   "metadata": {},
   "outputs": [],
   "source": [
    "#No significant association between Internet Access and Hours Studied"
   ]
  },
  {
   "cell_type": "markdown",
   "id": "ac496c521a3a5cc2",
   "metadata": {},
   "source": [
    "Hypothesis 3: Students who receive tutoring (Tutoring_Sessions) have higher exam grades than students without tutoring."
   ]
  },
  {
   "cell_type": "code",
   "execution_count": 50,
   "id": "2bb6b6291eade00",
   "metadata": {},
   "outputs": [
    {
     "name": "stdout",
     "output_type": "stream",
     "text": [
      "Spearman Correlation: 0.1310, p-value = 0.0000\n"
     ]
    }
   ],
   "source": [
    "#Tutoring Session not normally distributed\n",
    "from scipy.stats import spearmanr\n",
    "\n",
    "corr, p_value = spearmanr(df_merged[\"Tutoring_Sessions\"], df_merged[\"Exam_Score\"])\n",
    "print(f\"Spearman Correlation: {corr:.4f}, p-value = {p_value:.4f}\")"
   ]
  },
  {
   "cell_type": "code",
   "execution_count": null,
   "id": "d8e5a023-e40c-4fea-bf81-e22020c0f558",
   "metadata": {},
   "outputs": [],
   "source": [
    "#Significant weak positive association between Tutoring Sessions and Exam Score"
   ]
  }
 ],
 "metadata": {
  "kernelspec": {
   "display_name": "Python 3 (ipykernel)",
   "language": "python",
   "name": "python3"
  },
  "language_info": {
   "codemirror_mode": {
    "name": "ipython",
    "version": 3
   },
   "file_extension": ".py",
   "mimetype": "text/x-python",
   "name": "python",
   "nbconvert_exporter": "python",
   "pygments_lexer": "ipython3",
   "version": "3.10.15"
  }
 },
 "nbformat": 4,
 "nbformat_minor": 5
}
